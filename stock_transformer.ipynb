{
 "cells": [
  {
   "cell_type": "code",
   "execution_count": 2,
   "metadata": {},
   "outputs": [
    {
     "name": "stderr",
     "output_type": "stream",
     "text": [
      "[*********************100%***********************]  1 of 1 completed"
     ]
    },
    {
     "name": "stdout",
     "output_type": "stream",
     "text": [
      "Price        Adj Close       Close        High         Low        Open  \\\n",
      "Ticker            AAPL        AAPL        AAPL        AAPL        AAPL   \n",
      "Date                                                                     \n",
      "2019-12-18   67.800743   69.934998   70.474998   69.779999   69.949997   \n",
      "2019-12-19   67.868614   70.004997   70.294998   69.737503   69.875000   \n",
      "2019-12-20   67.728027   69.860001   70.662498   69.639999   70.557503   \n",
      "2019-12-23   68.833260   71.000000   71.062500   70.092499   70.132500   \n",
      "2019-12-24   68.898689   71.067497   71.222504   70.730003   71.172501   \n",
      "...                ...         ...         ...         ...         ...   \n",
      "2024-12-12  247.960007  247.960007  248.740005  245.679993  246.889999   \n",
      "2024-12-13  248.130005  248.130005  249.289993  246.240005  247.820007   \n",
      "2024-12-16  251.039993  251.039993  251.380005  247.649994  247.990005   \n",
      "2024-12-17  253.479996  253.479996  253.830002  249.779999  250.080002   \n",
      "2024-12-18  252.830002  252.830002  254.279999  251.330002  252.220001   \n",
      "\n",
      "Price          Volume  \n",
      "Ticker           AAPL  \n",
      "Date                   \n",
      "2019-12-18  116028400  \n",
      "2019-12-19   98369200  \n",
      "2019-12-20  275978000  \n",
      "2019-12-23   98572000  \n",
      "2019-12-24   48478800  \n",
      "...               ...  \n",
      "2024-12-12   32777500  \n",
      "2024-12-13   33155300  \n",
      "2024-12-16   51694800  \n",
      "2024-12-17   51356400  \n",
      "2024-12-18   22443567  \n",
      "\n",
      "[1259 rows x 6 columns]\n",
      "Price      Ticker\n",
      "Adj Close  AAPL      0\n",
      "Close      AAPL      0\n",
      "High       AAPL      0\n",
      "Low        AAPL      0\n",
      "Open       AAPL      0\n",
      "Volume     AAPL      0\n",
      "dtype: int64\n",
      "<class 'pandas.core.frame.DataFrame'>\n",
      "DatetimeIndex: 1259 entries, 2019-12-18 to 2024-12-18\n",
      "Data columns (total 6 columns):\n",
      " #   Column             Non-Null Count  Dtype  \n",
      "---  ------             --------------  -----  \n",
      " 0   (Adj Close, AAPL)  1259 non-null   float64\n",
      " 1   (Close, AAPL)      1259 non-null   float64\n",
      " 2   (High, AAPL)       1259 non-null   float64\n",
      " 3   (Low, AAPL)        1259 non-null   float64\n",
      " 4   (Open, AAPL)       1259 non-null   float64\n",
      " 5   (Volume, AAPL)     1259 non-null   int64  \n",
      "dtypes: float64(5), int64(1)\n",
      "memory usage: 68.9 KB\n"
     ]
    },
    {
     "name": "stderr",
     "output_type": "stream",
     "text": [
      "\n"
     ]
    }
   ],
   "source": [
    "import yfinance as yf\n",
    "\n",
    "# Define the ticker symbol for Apple\n",
    "ticker = \"AAPL\"\n",
    "\n",
    "# Fetch data for the last 5 years\n",
    "data = yf.download(ticker, period=\"5y\")\n",
    "\n",
    "# Display the first few rows\n",
    "print(data)\n",
    "\n",
    "# Check for null values in the dataset\n",
    "print(data.isnull().sum())\n",
    "\n",
    "\n",
    "data.info()\n",
    "\n",
    "# # Save the data to a CSV file for future use\n",
    "# data.to_csv(\"aapl_5_years.csv\")"
   ]
  },
  {
   "cell_type": "code",
   "execution_count": 3,
   "metadata": {},
   "outputs": [
    {
     "name": "stdout",
     "output_type": "stream",
     "text": [
      "<class 'pandas.core.frame.DataFrame'>\n",
      "DatetimeIndex: 1259 entries, 2019-12-18 to 2024-12-18\n",
      "Data columns (total 1 columns):\n",
      " #   Column         Non-Null Count  Dtype  \n",
      "---  ------         --------------  -----  \n",
      " 0   (Price, AAPL)  1259 non-null   float64\n",
      "dtypes: float64(1)\n",
      "memory usage: 19.7 KB\n"
     ]
    }
   ],
   "source": [
    "clean_data = data[['Close']].copy()\n",
    "clean_data.rename(columns={'Close': 'Price'}, inplace=True)\n",
    "\n",
    "clean_data.head()\n",
    "\n",
    "clean_data.info()"
   ]
  },
  {
   "cell_type": "code",
   "execution_count": 4,
   "metadata": {},
   "outputs": [
    {
     "name": "stdout",
     "output_type": "stream",
     "text": [
      "\n",
      "Data with Features:\n",
      " Price           Price       MA_7      MA_21\n",
      "Ticker           AAPL                      \n",
      "Date                                       \n",
      "2019-12-18  69.934998        NaN        NaN\n",
      "2019-12-19  70.004997        NaN        NaN\n",
      "2019-12-20  69.860001        NaN        NaN\n",
      "2019-12-23  71.000000        NaN        NaN\n",
      "2019-12-24  71.067497        NaN        NaN\n",
      "2019-12-26  72.477501        NaN        NaN\n",
      "2019-12-27  72.449997  70.970713        NaN\n",
      "2019-12-30  72.879997  71.391427        NaN\n",
      "2019-12-31  73.412498  71.878213        NaN\n",
      "2020-01-02  75.087502  72.624999        NaN\n",
      "2020-01-03  74.357498  73.104642        NaN\n",
      "2020-01-06  74.949997  73.659284        NaN\n",
      "2020-01-07  74.597504  73.962142        NaN\n",
      "2020-01-08  75.797501  74.440357        NaN\n",
      "2020-01-09  77.407501  75.087143        NaN\n",
      "2020-01-10  77.582497  75.682857        NaN\n",
      "2020-01-13  79.239998  76.276071        NaN\n",
      "2020-01-14  78.169998  76.820714        NaN\n",
      "2020-01-15  77.834999  77.232857        NaN\n",
      "2020-01-16  78.809998  77.834642        NaN\n",
      "2020-01-17  79.682503  78.389642  74.600237\n",
      "2020-01-21  79.142502  78.637499  75.038690\n",
      "2020-01-22  79.425003  78.900714  75.487261\n",
      "2020-01-23  79.807503  78.981786  75.960952\n",
      "2020-01-24  79.577499  79.182858  76.369404\n"
     ]
    }
   ],
   "source": [
    "\n",
    "# 6. Feature Engineering\n",
    "clean_data['MA_7'] = clean_data['Price'].rolling(window=7).mean()\n",
    "clean_data['MA_21'] = clean_data['Price'].rolling(window=21).mean()\n",
    "\n",
    "\n",
    "# 7. Inspect Data with Features\n",
    "print(\"\\nData with Features:\\n\", clean_data.head(25))\n"
   ]
  },
  {
   "cell_type": "code",
   "execution_count": 5,
   "metadata": {},
   "outputs": [
    {
     "name": "stdout",
     "output_type": "stream",
     "text": [
      "\n",
      "Cleaned Data Header after NaN removal:\n",
      " Price           Price       MA_7      MA_21\n",
      "Ticker           AAPL                      \n",
      "Date                                       \n",
      "2020-01-17  79.682503  78.389642  74.600237\n",
      "2020-01-21  79.142502  78.637499  75.038690\n",
      "2020-01-22  79.425003  78.900714  75.487261\n",
      "2020-01-23  79.807503  78.981786  75.960952\n",
      "2020-01-24  79.577499  79.182858  76.369404\n",
      "2020-01-27  77.237503  79.097501  76.663214\n",
      "2020-01-28  79.422501  79.185002  76.993928\n",
      "2020-01-29  81.084999  79.385359  77.405119\n",
      "2020-01-30  80.967499  79.646072  77.790238\n",
      "2020-01-31  77.377502  79.353572  77.979048\n"
     ]
    }
   ],
   "source": [
    "# 7. Drop NaN values\n",
    "clean_data.dropna(inplace=True)\n",
    "\n",
    "# 8. Inspect Cleaned Data\n",
    "print(\"\\nCleaned Data Header after NaN removal:\\n\", clean_data.head(10))\n"
   ]
  },
  {
   "cell_type": "code",
   "execution_count": 6,
   "metadata": {},
   "outputs": [
    {
     "name": "stdout",
     "output_type": "stream",
     "text": [
      "\n",
      "Accuracy: 0.5\n"
     ]
    }
   ],
   "source": [
    "from sklearn.model_selection import train_test_split\n",
    "from sklearn.tree import DecisionTreeClassifier\n",
    "from sklearn.metrics import accuracy_score\n",
    "\n",
    "# 8. Create Target variable\n",
    "clean_data['Price_Change'] = clean_data['Price'].diff().shift(-1)  # Price difference with next day\n",
    "clean_data['Target'] = (clean_data['Price_Change'] > 0).astype(int) # 1 = up, 0 = down or same\n",
    "clean_data.dropna(inplace=True)  # Drop last row that has NaNs as well\n",
    "\n",
    "# 9. Define features and Target\n",
    "features = ['MA_7', 'MA_21']\n",
    "target = 'Target'\n",
    "\n",
    "# 10. Split data into training and testing\n",
    "X_train, X_test, y_train, y_test = train_test_split(clean_data[features], clean_data[target], test_size=0.1, random_state=42)\n",
    "\n",
    "# 11. Create Model\n",
    "model = DecisionTreeClassifier(random_state=42)\n",
    "\n",
    "# 12. Train Model\n",
    "model.fit(X_train, y_train)\n",
    "\n",
    "# 13. Make Predictions\n",
    "y_pred = model.predict(X_test)\n",
    "\n",
    "# 14. Evaluate Model\n",
    "accuracy = accuracy_score(y_test, y_pred)\n",
    "print(\"\\nAccuracy:\", accuracy)\n"
   ]
  },
  {
   "cell_type": "code",
   "execution_count": 7,
   "metadata": {},
   "outputs": [
    {
     "name": "stdout",
     "output_type": "stream",
     "text": [
      "\n",
      "Accuracy: 0.5\n",
      "Precision: 0.6\n",
      "Recall: 0.5526315789473685\n",
      "F1 Score: 0.5753424657534246\n",
      "\n",
      "Classification Report:\n",
      "               precision    recall  f1-score   support\n",
      "\n",
      "           0       0.37      0.42      0.39        48\n",
      "           1       0.60      0.55      0.58        76\n",
      "\n",
      "    accuracy                           0.50       124\n",
      "   macro avg       0.49      0.48      0.48       124\n",
      "weighted avg       0.51      0.50      0.50       124\n",
      "\n"
     ]
    },
    {
     "data": {
      "image/png": "[encoded data removed]",
      "text/plain": [
       "<Figure size 640x480 with 2 Axes>"
      ]
     },
     "metadata": {},
     "output_type": "display_data"
    }
   ],
   "source": [
    "from sklearn.model_selection import train_test_split\n",
    "from sklearn.tree import DecisionTreeClassifier\n",
    "from sklearn.metrics import accuracy_score, precision_score, recall_score, f1_score, classification_report, confusion_matrix\n",
    "import matplotlib.pyplot as plt\n",
    "import seaborn as sns\n",
    "\n",
    "\n",
    "# 14. Evaluate Model\n",
    "accuracy = accuracy_score(y_test, y_pred)\n",
    "precision = precision_score(y_test, y_pred)\n",
    "recall = recall_score(y_test, y_pred)\n",
    "f1 = f1_score(y_test, y_pred)\n",
    "print(\"\\nAccuracy:\", accuracy)\n",
    "print(\"Precision:\", precision)\n",
    "print(\"Recall:\", recall)\n",
    "print(\"F1 Score:\", f1)\n",
    "print(\"\\nClassification Report:\\n\", classification_report(y_test, y_pred))\n",
    "\n",
    "# 15. Confusion Matrix\n",
    "cm = confusion_matrix(y_test, y_pred)\n",
    "sns.heatmap(cm, annot=True, fmt=\"d\", cmap=\"Blues\")\n",
    "plt.title('Confusion Matrix')\n",
    "plt.xlabel('Predicted Label')\n",
    "plt.ylabel('True Label')\n",
    "plt.show()\n",
    "\n"
   ]
  }
 ],
 "metadata": {
  "kernelspec": {
   "display_name": "Python 3",
   "language": "python",
   "name": "python3"
  },
  "language_info": {
   "codemirror_mode": {
    "name": "ipython",
    "version": 3
   },
   "file_extension": ".py",
   "mimetype": "text/x-python",
   "name": "python",
   "nbconvert_exporter": "python",
   "pygments_lexer": "ipython3",
   "version": "3.12.4"
  }
 },
 "nbformat": 4,
 "nbformat_minor": 2
}
